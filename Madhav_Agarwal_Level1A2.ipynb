{
  "cells": [
    {
      "cell_type": "markdown",
      "metadata": {
        "id": "view-in-github",
        "colab_type": "text"
      },
      "source": [
        "<a href=\"https://colab.research.google.com/github/Madmins07/Business_Club_Tasks/blob/main/Madhav_Agarwal_Level1A2.ipynb\" target=\"_parent\"><img src=\"https://colab.research.google.com/assets/colab-badge.svg\" alt=\"Open In Colab\"/></a>"
      ]
    },
    {
      "cell_type": "markdown",
      "metadata": {
        "id": "KI7i51VOmlZh"
      },
      "source": [
        "### 1) Import Pandas and Numpy"
      ]
    },
    {
      "cell_type": "code",
      "execution_count": 38,
      "metadata": {
        "id": "W7bzVDGemlZh"
      },
      "outputs": [],
      "source": [
        "import pandas as pd\n",
        "import numpy as np"
      ]
    },
    {
      "cell_type": "markdown",
      "metadata": {
        "id": "79TqQiQVmlZi"
      },
      "source": [
        "### 2) Import the dataset and  Assign it to a variable called Chipo\n",
        "\n",
        "#### Import the dataset from this url 'https://raw.githubusercontent.com/justmarkham/DAT8/master/data/chipotle.tsv '\n",
        "#### REMEMBER: It is a .tsv file , you will have to do some research on how to read .tsv files first!"
      ]
    },
    {
      "cell_type": "code",
      "execution_count": 39,
      "metadata": {
        "id": "wD3SElRSmlZi",
        "colab": {
          "base_uri": "https://localhost:8080/"
        },
        "outputId": "584c3e00-b934-4a3d-9dbe-37dcbe367efa"
      },
      "outputs": [
        {
          "output_type": "stream",
          "name": "stdout",
          "text": [
            "(4622, 5)\n"
          ]
        }
      ],
      "source": [
        "Chipo = pd.read_table('https://raw.githubusercontent.com/justmarkham/DAT8/master/data/chipotle.tsv ', sep='\\t')\n",
        "print(Chipo.shape)"
      ]
    },
    {
      "cell_type": "markdown",
      "metadata": {
        "id": "R7CI2qVumlZi"
      },
      "source": [
        "### 3) See the first 10 entries"
      ]
    },
    {
      "cell_type": "code",
      "execution_count": 40,
      "metadata": {
        "id": "of9AsfcqmlZj",
        "scrolled": false,
        "colab": {
          "base_uri": "https://localhost:8080/"
        },
        "outputId": "99e28d91-f29e-453a-fcc6-6ee177b2407f"
      },
      "outputs": [
        {
          "output_type": "stream",
          "name": "stdout",
          "text": [
            "   order_id  quantity                              item_name  \\\n",
            "0         1         1           Chips and Fresh Tomato Salsa   \n",
            "1         1         1                                   Izze   \n",
            "2         1         1                       Nantucket Nectar   \n",
            "3         1         1  Chips and Tomatillo-Green Chili Salsa   \n",
            "4         2         2                           Chicken Bowl   \n",
            "5         3         1                           Chicken Bowl   \n",
            "6         3         1                          Side of Chips   \n",
            "7         4         1                          Steak Burrito   \n",
            "8         4         1                       Steak Soft Tacos   \n",
            "9         5         1                          Steak Burrito   \n",
            "\n",
            "                                  choice_description item_price  \n",
            "0                                                NaN     $2.39   \n",
            "1                                       [Clementine]     $3.39   \n",
            "2                                            [Apple]     $3.39   \n",
            "3                                                NaN     $2.39   \n",
            "4  [Tomatillo-Red Chili Salsa (Hot), [Black Beans...    $16.98   \n",
            "5  [Fresh Tomato Salsa (Mild), [Rice, Cheese, Sou...    $10.98   \n",
            "6                                                NaN     $1.69   \n",
            "7  [Tomatillo Red Chili Salsa, [Fajita Vegetables...    $11.75   \n",
            "8  [Tomatillo Green Chili Salsa, [Pinto Beans, Ch...     $9.25   \n",
            "9  [Fresh Tomato Salsa, [Rice, Black Beans, Pinto...     $9.25   \n"
          ]
        }
      ],
      "source": [
        "print(Chipo.head(10))"
      ]
    },
    {
      "cell_type": "markdown",
      "metadata": {
        "id": "0rBhn2qZmlZj"
      },
      "source": [
        "### 4) What is the number of observations in the dataset?"
      ]
    },
    {
      "cell_type": "code",
      "execution_count": 41,
      "metadata": {
        "id": "-1SC1x2dmlZj",
        "colab": {
          "base_uri": "https://localhost:8080/"
        },
        "outputId": "5c43f560-b372-4d58-c339-8acd3f3dcfbf"
      },
      "outputs": [
        {
          "output_type": "stream",
          "name": "stdout",
          "text": [
            "Number of observations in the dataset:- 4622\n"
          ]
        }
      ],
      "source": [
        "print(f\"Number of observations in the dataset:- {Chipo.shape[0]}\")"
      ]
    },
    {
      "cell_type": "markdown",
      "metadata": {
        "id": "j7RaUNL7mlZj"
      },
      "source": [
        "### 5) What is the number of columns in the dataset?"
      ]
    },
    {
      "cell_type": "code",
      "execution_count": 42,
      "metadata": {
        "id": "iHObV4jBmlZk",
        "colab": {
          "base_uri": "https://localhost:8080/"
        },
        "outputId": "622cc9ee-462d-48c9-e11d-3cb039686f66"
      },
      "outputs": [
        {
          "output_type": "stream",
          "name": "stdout",
          "text": [
            "Number of observations in the dataset:- 5\n"
          ]
        }
      ],
      "source": [
        "print(f\"Number of observations in the dataset:- {Chipo.shape[1]}\")"
      ]
    },
    {
      "cell_type": "markdown",
      "metadata": {
        "id": "PhUt_caomlZk"
      },
      "source": [
        "### 6) Print the name of all the columns."
      ]
    },
    {
      "cell_type": "code",
      "execution_count": 43,
      "metadata": {
        "id": "mOZSqJtimlZk",
        "colab": {
          "base_uri": "https://localhost:8080/"
        },
        "outputId": "1bc28841-42f0-4760-a7d1-4ef91bfad4ab"
      },
      "outputs": [
        {
          "output_type": "stream",
          "name": "stdout",
          "text": [
            "Index(['order_id', 'quantity', 'item_name', 'choice_description',\n",
            "       'item_price'],\n",
            "      dtype='object')\n"
          ]
        }
      ],
      "source": [
        "print(Chipo.columns)"
      ]
    },
    {
      "cell_type": "markdown",
      "metadata": {
        "id": "ZvJrCW4RmlZk"
      },
      "source": [
        "### 7) Which was the most-ordered item?"
      ]
    },
    {
      "cell_type": "code",
      "execution_count": 44,
      "metadata": {
        "id": "ToRjoQ4KmlZk",
        "colab": {
          "base_uri": "https://localhost:8080/"
        },
        "outputId": "0332628c-905e-403f-c823-d0bb4bb20bbf"
      },
      "outputs": [
        {
          "output_type": "stream",
          "name": "stdout",
          "text": [
            "The most ordered item:- Chips and Fresh Tomato Salsa\n"
          ]
        }
      ],
      "source": [
        "print(f\"The most ordered item:- {Chipo['item_name'].where(Chipo['quantity'] == Chipo['quantity'].max()).dropna().iloc[0]}\")"
      ]
    },
    {
      "cell_type": "markdown",
      "metadata": {
        "id": "OJqo6oGFmlZl"
      },
      "source": [
        "### 8) For the most-ordered item, how many items were ordered?"
      ]
    },
    {
      "cell_type": "code",
      "execution_count": 45,
      "metadata": {
        "id": "e80jObKAmlZl",
        "colab": {
          "base_uri": "https://localhost:8080/"
        },
        "outputId": "fc9871e2-65a9-4698-e0f7-f192df5cba79"
      },
      "outputs": [
        {
          "output_type": "stream",
          "name": "stdout",
          "text": [
            "Number of times Chips and Fresh Tomato Salsa was ordered is:- 130\n"
          ]
        }
      ],
      "source": [
        "name = Chipo['item_name'].where(Chipo['quantity'] == Chipo['quantity'].max()).dropna().iloc[0]\n",
        "count = Chipo[Chipo['item_name'] == name]['quantity'].sum()\n",
        "print(f\"Number of times {name} was ordered is:- {count}\")"
      ]
    },
    {
      "cell_type": "markdown",
      "metadata": {
        "id": "djD1uMajmlZl"
      },
      "source": [
        "### 9) What was the most ordered item in the choice_description column?"
      ]
    },
    {
      "cell_type": "code",
      "execution_count": 46,
      "metadata": {
        "id": "udGSOJ7UmlZl",
        "colab": {
          "base_uri": "https://localhost:8080/"
        },
        "outputId": "85cfd36a-a8e6-4a91-ce89-8321fd8a1485"
      },
      "outputs": [
        {
          "output_type": "stream",
          "name": "stdout",
          "text": [
            "The most ordered item in the choice_description column is:- [Diet Coke]\n"
          ]
        }
      ],
      "source": [
        "item = Chipo['choice_description'].value_counts().index[0]\n",
        "print(f\"The most ordered item in the choice_description column is:- {item}\")\n"
      ]
    },
    {
      "cell_type": "markdown",
      "metadata": {
        "id": "dJwiFc_umlZm"
      },
      "source": [
        "### 10) How many items were ordered in total?"
      ]
    },
    {
      "cell_type": "code",
      "execution_count": 47,
      "metadata": {
        "id": "TnDdqj2kmlZm",
        "colab": {
          "base_uri": "https://localhost:8080/"
        },
        "outputId": "fdd0aa14-2316-435c-cc1b-965fbb26c5a8"
      },
      "outputs": [
        {
          "output_type": "stream",
          "name": "stdout",
          "text": [
            "Total items ordered: 4972\n"
          ]
        }
      ],
      "source": [
        "print(f\"Total items ordered: {Chipo['quantity'].sum()}\")\n"
      ]
    },
    {
      "cell_type": "markdown",
      "metadata": {
        "id": "b6jd11bYmlZm"
      },
      "source": [
        "### 11) Turn the item price into a float"
      ]
    },
    {
      "cell_type": "code",
      "execution_count": 48,
      "metadata": {
        "id": "dd0ivpj8mlZm",
        "colab": {
          "base_uri": "https://localhost:8080/"
        },
        "outputId": "386945e4-9c74-498c-b9e3-236d7edad28e"
      },
      "outputs": [
        {
          "output_type": "stream",
          "name": "stdout",
          "text": [
            "float64\n"
          ]
        }
      ],
      "source": [
        "Chipo['item_price'] = Chipo['item_price'].apply(lambda x: float(x[1:]))\n",
        "print(Chipo['item_price'].dtype)"
      ]
    },
    {
      "cell_type": "markdown",
      "metadata": {
        "id": "DRETO0SGmlZm"
      },
      "source": [
        "### 12) How much was the revenue for the period in the dataset?\n",
        "#### Revenue will be the sum of quantity * item_price!"
      ]
    },
    {
      "cell_type": "code",
      "execution_count": 50,
      "metadata": {
        "id": "3kIogdd7mlZm",
        "colab": {
          "base_uri": "https://localhost:8080/"
        },
        "outputId": "ae065c06-a733-4538-dff5-a832ac774605"
      },
      "outputs": [
        {
          "output_type": "stream",
          "name": "stdout",
          "text": [
            "Total revenue for the given period is:- 39237.02\n"
          ]
        }
      ],
      "source": [
        "sum = (Chipo['quantity'] * Chipo['item_price']).sum()\n",
        "print(f\"Total revenue for the given period is:- {sum}\")\n"
      ]
    },
    {
      "cell_type": "markdown",
      "metadata": {
        "id": "963tji0amlZn"
      },
      "source": [
        "### 13) How many orders were made in the period?"
      ]
    },
    {
      "cell_type": "code",
      "execution_count": 57,
      "metadata": {
        "id": "3nytKBUgmlZn",
        "colab": {
          "base_uri": "https://localhost:8080/"
        },
        "outputId": "a2fb525b-92bb-4950-f592-11f44cc8150e"
      },
      "outputs": [
        {
          "output_type": "stream",
          "name": "stdout",
          "text": [
            "Total orders made in the period:- 1834\n"
          ]
        }
      ],
      "source": [
        "print(f\"Total orders made in the period:- {Chipo['order_id'].unique().size}\")"
      ]
    },
    {
      "cell_type": "markdown",
      "metadata": {
        "id": "lU71tTXJmlZn"
      },
      "source": [
        "### 14) What is the average revenue amount per order?"
      ]
    },
    {
      "cell_type": "code",
      "execution_count": 58,
      "metadata": {
        "id": "MwzvsBoLmlZn",
        "colab": {
          "base_uri": "https://localhost:8080/"
        },
        "outputId": "528475b4-5464-4542-c2b3-a911f0d94d98"
      },
      "outputs": [
        {
          "output_type": "stream",
          "name": "stdout",
          "text": [
            "Average revenue per order:- 21.39423118865867\n"
          ]
        }
      ],
      "source": [
        "avg = Chipo['quantity'] * Chipo['item_price']\n",
        "avgper = (avg.sum() )/ (Chipo['order_id'].unique().size)\n",
        "print(f\"Average revenue per order:- {avgper}\")\n"
      ]
    },
    {
      "cell_type": "markdown",
      "metadata": {
        "id": "HALZkMKvmlZn"
      },
      "source": [
        "### 15) How many different items are sold?"
      ]
    },
    {
      "cell_type": "code",
      "execution_count": 59,
      "metadata": {
        "id": "CFO7KOwQmlZo",
        "colab": {
          "base_uri": "https://localhost:8080/"
        },
        "outputId": "be6c780f-6db8-4f99-8531-f8af1bf65c91"
      },
      "outputs": [
        {
          "output_type": "stream",
          "name": "stdout",
          "text": [
            "Total number of different items sold:- 50\n"
          ]
        }
      ],
      "source": [
        "print(f\"Total number of different items sold:- {Chipo['item_name'].unique().size}\")\n"
      ]
    }
  ],
  "metadata": {
    "anaconda-cloud": {},
    "colab": {
      "provenance": [],
      "include_colab_link": true
    },
    "kernelspec": {
      "display_name": "Python 3",
      "language": "python",
      "name": "python3"
    },
    "language_info": {
      "codemirror_mode": {
        "name": "ipython",
        "version": 3
      },
      "file_extension": ".py",
      "mimetype": "text/x-python",
      "name": "python",
      "nbconvert_exporter": "python",
      "pygments_lexer": "ipython3",
      "version": "3.7.4"
    }
  },
  "nbformat": 4,
  "nbformat_minor": 0
}